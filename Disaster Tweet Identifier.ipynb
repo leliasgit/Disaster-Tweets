{
 "cells": [
  {
   "cell_type": "code",
   "execution_count": 2,
   "metadata": {
    "collapsed": true,
    "deletable": true,
    "editable": true
   },
   "outputs": [],
   "source": [
    "import numpy as np\n",
    "import matplotlib.pyplot as plt\n",
    "import pandas as pd\n",
    "import scipy as sc\n",
    "from sklearn import feature_extraction, linear_model, model_selection, preprocessing\n",
    "from sklearn.feature_extraction.text import TfidfVectorizer\n",
    "from nltk.corpus import stopwords\n",
    "from sklearn import svm\n",
    "from sklearn.decomposition import TruncatedSVD\n",
    "from sklearn.model_selection import RepeatedStratifiedKFold\n",
    "from sklearn.model_selection import GridSearchCV\n"
   ]
  },
  {
   "cell_type": "markdown",
   "metadata": {
    "deletable": true,
    "editable": true
   },
   "source": [
    "## Load the data"
   ]
  },
  {
   "cell_type": "code",
   "execution_count": 3,
   "metadata": {
    "collapsed": true,
    "deletable": true,
    "editable": true
   },
   "outputs": [],
   "source": [
    "train_df = pd.read_csv(\"/Users/lydiaelias/Desktop/kaggle/input/train.csv\")\n",
    "test_df = pd.read_csv(\"/Users/lydiaelias/Desktop/kaggle/input/test.csv\")"
   ]
  },
  {
   "cell_type": "markdown",
   "metadata": {
    "deletable": true,
    "editable": true
   },
   "source": [
    "These files have 'text' associated to the tweet and 'target' as the label. Target values are 0 if not a disaster tweet, 1 if it is."
   ]
  },
  {
   "cell_type": "markdown",
   "metadata": {
    "deletable": true,
    "editable": true
   },
   "source": [
    "## Clean tweets"
   ]
  },
  {
   "cell_type": "code",
   "execution_count": 4,
   "metadata": {
    "collapsed": true,
    "deletable": true,
    "editable": true
   },
   "outputs": [],
   "source": [
    "train_df[\"cleantext\"] = train_df[\"text\"].str.replace(\"(@[A-Za-z0-9]+)|([^0-9A-Za-z \\t])|(\\w+:\\/\\/\\S+)\", \" \")\n",
    "train_df[\"cleantext\"] = train_df[\"cleantext\"].apply(lambda x: x.lower())\n",
    "stop_words = stopwords.words('english')\n",
    "tokenized = train_df[\"cleantext\"].apply(lambda x: x.split())\n",
    "tokenized = tokenized.apply(lambda x: [item for item in x if item not in stop_words])\n",
    "detokenized = []\n",
    "for i in range(len(train_df)):\n",
    "    t = ' '.join(tokenized[i])\n",
    "    detokenized.append(t)\n",
    "train_df[\"cleantext\"] = detokenized"
   ]
  },
  {
   "cell_type": "markdown",
   "metadata": {
    "deletable": true,
    "editable": true
   },
   "source": [
    "## Start simple: word count vectorizer with linear ridge classifier"
   ]
  },
  {
   "cell_type": "code",
   "execution_count": 5,
   "metadata": {
    "collapsed": true,
    "deletable": true,
    "editable": true
   },
   "outputs": [],
   "source": [
    "count_vectorizer = feature_extraction.text.CountVectorizer()\n",
    "train_vectors = count_vectorizer.fit_transform(train_df[\"cleantext\"])\n",
    "\n",
    "model = linear_model.RidgeClassifier()\n",
    "\n",
    "scores = model_selection.cross_val_score(model, train_vectors, train_df[\"target\"], cv=3, scoring=\"accuracy\")"
   ]
  },
  {
   "cell_type": "markdown",
   "metadata": {
    "deletable": true,
    "editable": true
   },
   "source": [
    "We get 63-69% accuracy. Let's see if we can do better"
   ]
  },
  {
   "cell_type": "markdown",
   "metadata": {
    "deletable": true,
    "editable": true
   },
   "source": [
    "## TFIDF vectorizer with linear ridge classifier"
   ]
  },
  {
   "cell_type": "code",
   "execution_count": 6,
   "metadata": {
    "collapsed": false,
    "deletable": true,
    "editable": true
   },
   "outputs": [],
   "source": [
    "tfidf_vectorizer = TfidfVectorizer()\n",
    "train_vectors = tfidf_vectorizer.fit_transform(train_df[\"cleantext\"])\n",
    "\n",
    "model = linear_model.RidgeClassifier()\n",
    "\n",
    "scores = model_selection.cross_val_score(model, train_vectors, train_df[\"target\"], cv=3, scoring=\"accuracy\")"
   ]
  },
  {
   "cell_type": "markdown",
   "metadata": {
    "deletable": true,
    "editable": true
   },
   "source": [
    "Better! We now have 67-73% accuracy. Maybe it's time to try a different model"
   ]
  },
  {
   "cell_type": "markdown",
   "metadata": {
    "deletable": true,
    "editable": true
   },
   "source": [
    "## TFIDF vectorizer with SVC"
   ]
  },
  {
   "cell_type": "code",
   "execution_count": 7,
   "metadata": {
    "collapsed": true,
    "deletable": true,
    "editable": true
   },
   "outputs": [],
   "source": [
    "model = svm.SVC(kernel='linear',C=1.0)\n",
    "\n",
    "scores = model_selection.cross_val_score(model, train_vectors, train_df[\"target\"], cv=3, scoring=\"accuracy\")"
   ]
  },
  {
   "cell_type": "markdown",
   "metadata": {
    "deletable": true,
    "editable": true
   },
   "source": [
    "This does almost exactly the same. Let's stop guessing at models and use a grid search to test them"
   ]
  },
  {
   "cell_type": "markdown",
   "metadata": {
    "deletable": true,
    "editable": true
   },
   "source": [
    "## Grid search for best model"
   ]
  },
  {
   "cell_type": "code",
   "execution_count": null,
   "metadata": {
    "collapsed": true,
    "deletable": true,
    "editable": true
   },
   "outputs": [],
   "source": [
    "kernel = ['poly', 'rbf', 'sigmoid']\n",
    "C = [50, 10, 1.0, 0.1, 0.01]\n",
    "gamma = ['scale']\n",
    "# define grid search\n",
    "grid = dict(kernel=kernel,C=C,gamma=gamma)\n",
    "cv = RepeatedStratifiedKFold(n_splits=10, n_repeats=3, random_state=1)\n",
    "model = GridSearchCV(estimator=svm.SVC(), param_grid=grid, n_jobs=-1, cv=cv, scoring='accuracy',error_score=0)\n"
   ]
  },
  {
   "cell_type": "markdown",
   "metadata": {
    "deletable": true,
    "editable": true
   },
   "source": [
    "Now let's find the scores"
   ]
  },
  {
   "cell_type": "markdown",
   "metadata": {
    "deletable": true,
    "editable": true
   },
   "source": [
    "## TFIDF with model determined by grid search"
   ]
  },
  {
   "cell_type": "code",
   "execution_count": null,
   "metadata": {
    "collapsed": true,
    "deletable": true,
    "editable": true
   },
   "outputs": [],
   "source": [
    "model.fit(train_vectors, train_df[\"target\"])\n",
    "bestmodel = model.best_estimator_\n",
    "bestparams = model.best_params_\n",
    "score=model.best_score_"
   ]
  },
  {
   "cell_type": "markdown",
   "metadata": {
    "deletable": true,
    "editable": true
   },
   "source": [
    "That does even better! We now have an accuracy of 80% with an SVC model (rbf kernel,C=50,degree=3). We'll use this model from now on."
   ]
  },
  {
   "cell_type": "markdown",
   "metadata": {
    "deletable": true,
    "editable": true
   },
   "source": [
    "Additional techniques like ngrams and LSA might help us do even better"
   ]
  },
  {
   "cell_type": "markdown",
   "metadata": {
    "deletable": true,
    "editable": true
   },
   "source": [
    "### Ngrams"
   ]
  },
  {
   "cell_type": "code",
   "execution_count": null,
   "metadata": {
    "collapsed": true,
    "deletable": true,
    "editable": true
   },
   "outputs": [],
   "source": [
    "tfidf_ngram = tfidf_vectorizer(ngram_range=(1,2))\n",
    "train_vectors = tfidf_ngram.fit_transform(train_df[\"cleantext\"])\n",
    "\n",
    "scores = (bestmodel, train_vectors, train_df[\"target\"], cv=3, scoring=\"accuracy\")"
   ]
  },
  {
   "cell_type": "markdown",
   "metadata": {
    "deletable": true,
    "editable": true
   },
   "source": [
    "This reduced scores to 61-67%"
   ]
  },
  {
   "cell_type": "markdown",
   "metadata": {
    "deletable": true,
    "editable": true
   },
   "source": [
    "### TFIDF and LSA with TruncatedSVD"
   ]
  },
  {
   "cell_type": "markdown",
   "metadata": {
    "deletable": true,
    "editable": true
   },
   "source": [
    "First we have to determine the number of topics that will optimize accuracy"
   ]
  },
  {
   "cell_type": "code",
   "execution_count": 14,
   "metadata": {
    "collapsed": false,
    "deletable": true,
    "editable": true
   },
   "outputs": [],
   "source": [
    "train_vectors = tfidf_vectorizer.fit_transform(train_df[\"cleantext\"])\n",
    "scs=[]\n",
    "for i in range(50,400,25):\n",
    "    svd_model = TruncatedSVD(n_components=i, algorithm='randomized', n_iter=100)\n",
    "    train_topics = svd_model.fit_transform(train_vectors)\n",
    "    scores = model_selection.cross_val_score(svm.SVC(C=50,kernel='rbf',gamma='scale'), train_topics, train_df[\"target\"], cv=3, scoring=\"accuracy\")\n",
    "    scs.append(np.max(scores))\n",
    "    "
   ]
  },
  {
   "cell_type": "code",
   "execution_count": 18,
   "metadata": {
    "collapsed": false,
    "deletable": true,
    "editable": true
   },
   "outputs": [
    {
     "data": {
      "text/plain": [
       "<matplotlib.text.Text at 0x11fbb9a90>"
      ]
     },
     "execution_count": 18,
     "metadata": {},
     "output_type": "execute_result"
    },
    {
     "data": {
      "image/png": "[encoded data removed]",
      "text/plain": [
       "<matplotlib.figure.Figure at 0x121299490>"
      ]
     },
     "metadata": {
      "needs_background": "light"
     },
     "output_type": "display_data"
    }
   ],
   "source": [
    "plt.plot(np.linspace(50,375,14),scs)\n",
    "plt.xlabel('N$_{topics}$')\n",
    "plt.ylabel('Mean score')"
   ]
  },
  {
   "cell_type": "markdown",
   "metadata": {
    "deletable": true,
    "editable": true
   },
   "source": [
    "This takes some playing around but ~250 topics seems like a decent number. However, our scores are not markedly better. Let's see why"
   ]
  },
  {
   "cell_type": "code",
   "execution_count": 13,
   "metadata": {
    "collapsed": false,
    "deletable": true,
    "editable": true
   },
   "outputs": [
    {
     "name": "stdout",
     "output_type": "stream",
     "text": [
      "Topic 0: \n",
      "families\n",
      " \n",
      "mh370\n",
      " \n",
      "malaysia\n",
      " \n",
      "confirmed\n",
      " \n",
      "wreckage\n",
      " \n",
      "legionnaires\n",
      " \n",
      "california\n",
      " \n",
      "Topic 1: \n",
      "families\n",
      " \n",
      "mh370\n",
      " \n",
      "malaysia\n",
      " \n",
      "wreckage\n",
      " \n",
      "confirmed\n",
      " \n",
      "conclusively\n",
      " \n",
      "pm\n",
      " \n",
      "Topic 2: \n",
      "california\n",
      " \n",
      "northern\n",
      " \n",
      "wildfire\n",
      " \n",
      "homes\n",
      " \n",
      "razed\n",
      " \n",
      "latest\n",
      " \n",
      "abc\n",
      " \n",
      "Topic 3: \n",
      "get\n",
      " \n",
      "sandstorm\n",
      " \n",
      "swallowed\n",
      " \n",
      "airport\n",
      " \n",
      "minute\n",
      " \n",
      "watch\n",
      " \n",
      "northern\n",
      " \n",
      "Topic 4: \n",
      "suicide\n",
      " \n",
      "bomber\n",
      " \n",
      "sandstorm\n",
      " \n",
      "bomb\n",
      " \n",
      "swallowed\n",
      " \n",
      "airport\n",
      " \n",
      "detonated\n",
      " \n",
      "Topic 5: \n",
      "disaster\n",
      " \n",
      "obama\n",
      " \n",
      "typhoon\n",
      " \n",
      "devastated\n",
      " \n",
      "declares\n",
      " \n",
      "saipan\n",
      " \n",
      "signs\n",
      " \n",
      "Topic 6: \n",
      "legionnaires\n",
      " \n",
      "families\n",
      " \n",
      "outbreak\n",
      " \n",
      "sue\n",
      " \n",
      "fatal\n",
      " \n",
      "affected\n",
      " \n",
      "40\n",
      " \n"
     ]
    }
   ],
   "source": [
    "svd_model = TruncatedSVD(n_components=250, algorithm='randomized', n_iter=100)\n",
    "svd_model.fit(train_vectors)\n",
    "feature_names = np.array(tfidf_vectorizer.get_feature_names())\n",
    "for i, comp in enumerate(svd_model.components_):\n",
    "    terms_comp = zip(feature_names, comp)\n",
    "    sorted_terms = sorted(terms_comp, key= lambda x:x[1], reverse=True)[:7]\n",
    "    if i<7:\n",
    "        print(\"Topic \"+str(i)+\": \")\n",
    "        for t in sorted_terms:\n",
    "            print(t[0])\n",
    "            print(\" \")"
   ]
  },
  {
   "cell_type": "markdown",
   "metadata": {
    "deletable": true,
    "editable": true
   },
   "source": [
    "Taking a look at a few topics, we see that it did a decent job but not perfect. A score of ~70% makes sense."
   ]
  },
  {
   "cell_type": "markdown",
   "metadata": {
    "deletable": true,
    "editable": true
   },
   "source": [
    "All in all, best model is TFIDF in conjunction with svm.SVC(C=50,kernel='rbf',gamma='scale',degree=3) for a score of 80% accuracy"
   ]
  },
  {
   "cell_type": "code",
   "execution_count": null,
   "metadata": {
    "collapsed": true,
    "deletable": true,
    "editable": true
   },
   "outputs": [],
   "source": []
  }
 ],
 "metadata": {
  "kernelspec": {
   "display_name": "Python 2",
   "language": "python",
   "name": "python2"
  },
  "language_info": {
   "codemirror_mode": {
    "name": "ipython",
    "version": 2
   },
   "file_extension": ".py",
   "mimetype": "text/x-python",
   "name": "python",
   "nbconvert_exporter": "python",
   "pygments_lexer": "ipython2",
   "version": "2.7.13"
  }
 },
 "nbformat": 4,
 "nbformat_minor": 2
}
